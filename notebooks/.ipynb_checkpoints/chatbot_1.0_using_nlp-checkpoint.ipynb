{
 "cells": [
  {
   "cell_type": "markdown",
   "metadata": {
    "id": "FSO4pxwpC6Qk"
   },
   "source": [
    "**ChatBot 2.0**"
   ]
  },
  {
   "cell_type": "code",
   "execution_count": 1,
   "metadata": {
    "colab": {
     "base_uri": "https://localhost:8080/"
    },
    "id": "ocU0yDCvC2WU",
    "outputId": "f926bc0b-ddcb-40cf-d24c-9030b686d828"
   },
   "outputs": [
    {
     "name": "stdout",
     "output_type": "stream",
     "text": [
      "Requirement already satisfied: nltk in c:\\users\\user\\anaconda3\\lib\\site-packages (3.6.1)Note: you may need to restart the kernel to use updated packages.\n",
      "Requirement already satisfied: joblib in c:\\users\\user\\anaconda3\\lib\\site-packages (from nltk) (1.0.1)\n",
      "Requirement already satisfied: click in c:\\users\\user\\anaconda3\\lib\\site-packages (from nltk) (7.1.2)\n",
      "Requirement already satisfied: tqdm in c:\\users\\user\\anaconda3\\lib\\site-packages (from nltk) (4.59.0)\n",
      "Requirement already satisfied: regex in c:\\users\\user\\anaconda3\\lib\\site-packages (from nltk) (2021.4.4)\n",
      "\n"
     ]
    }
   ],
   "source": [
    "pip install nltk"
   ]
  },
  {
   "cell_type": "code",
   "execution_count": null,
   "metadata": {
    "colab": {
     "base_uri": "https://localhost:8080/"
    },
    "id": "L2kh10r-DINb",
    "outputId": "7135e6b7-1336-4c33-98f5-2e905a63b7d6"
   },
   "outputs": [],
   "source": [
    "pip install newspaper3k"
   ]
  },
  {
   "cell_type": "code",
   "execution_count": null,
   "metadata": {
    "id": "jIwb1qldDf6v"
   },
   "outputs": [],
   "source": [
    "#import the libraries\n",
    "from newspaper import Article\n",
    "import random\n",
    "import string\n",
    "import nltk\n",
    "from sklearn.feature_extraction.text import CountVectorizer\n",
    "from sklearn.metrics.pairwise import cosine_similarity\n",
    "import numpy as np\n",
    "import warnings \n",
    "warnings.filterwarnings('ignore')\n"
   ]
  },
  {
   "cell_type": "code",
   "execution_count": null,
   "metadata": {
    "colab": {
     "base_uri": "https://localhost:8080/"
    },
    "id": "ktR1CXxPEHWi",
    "outputId": "3af59643-8de9-432f-bf92-f19fb2845e4f"
   },
   "outputs": [],
   "source": [
    "#download the punkt package\n",
    "nltk.download('punkt', quiet=True)\n"
   ]
  },
  {
   "cell_type": "code",
   "execution_count": null,
   "metadata": {
    "id": "kVsGbMhSEKVY"
   },
   "outputs": [],
   "source": [
    "#Get the unicef article\n",
    "article = Article('https://www.unicef.org/india/coronavirus/covid-19') \n",
    "article.download()\n",
    "article.parse()\n",
    "article.nlp()\n",
    "corpus = article.text"
   ]
  },
  {
   "cell_type": "code",
   "execution_count": null,
   "metadata": {
    "colab": {
     "base_uri": "https://localhost:8080/"
    },
    "id": "k3kLYk2uEwN5",
    "outputId": "1ced0ec8-c669-4709-bc3e-35b3220aeb80"
   },
   "outputs": [],
   "source": [
    "#print the article text\n",
    "print(corpus)"
   ]
  },
  {
   "cell_type": "code",
   "execution_count": null,
   "metadata": {
    "colab": {
     "base_uri": "https://localhost:8080/"
    },
    "id": "PkrzxrPHE9Oc",
    "outputId": "87c115a2-cfcc-4bd6-cec4-37b46d12e3a1"
   },
   "outputs": [],
   "source": [
    "#Tokenization\n",
    "text = corpus\n",
    "sentence_list = nltk.sent_tokenize(text) # A list of sentences\n",
    "print(sentence_list)"
   ]
  },
  {
   "cell_type": "code",
   "execution_count": null,
   "metadata": {
    "id": "IWjDcXX7FGA8"
   },
   "outputs": [],
   "source": [
    "# A function to return a random response to a user's greeting\n",
    "def greeting_response(text):\n",
    "  text = text.lower()\n",
    "\n",
    "  #Bots greeting response\n",
    "  bot_greetings = [ 'howdy','hi','hey','hello','hola']\n",
    "  #Users greeting\n",
    "  user_greetings = ['hi','hey','hello','hola', 'greetings','wassup','sup','hey bot','konnichiwa']\n",
    "\n",
    "\n",
    "  for word in text.split():\n",
    "   if word in user_greetings:\n",
    "     return random.choice(bot_greetings)\n",
    "\n"
   ]
  },
  {
   "cell_type": "code",
   "execution_count": null,
   "metadata": {
    "id": "Qszgc-r5JUNc"
   },
   "outputs": [],
   "source": [
    "def index_sort(list_var):\n",
    "    length = len(list_var)\n",
    "    list_index = list(range(0,length))\n",
    "\n",
    "    x =list_var\n",
    "    for i in range(length):\n",
    "      for j in range(length):\n",
    "        if x[list_index[i]] > x[list_index[j]]:\n",
    "          #swap\n",
    "          temp = list_index[i]\n",
    "          list_index[i] = list_index[j]\n",
    "          list_index[j] = temp\n",
    "\n",
    "    return list_index \n"
   ]
  },
  {
   "cell_type": "code",
   "execution_count": null,
   "metadata": {
    "id": "5ZRqThffF6Vj"
   },
   "outputs": [],
   "source": [
    "#Create the bot's response"
   ]
  },
  {
   "cell_type": "code",
   "execution_count": null,
   "metadata": {
    "id": "VujKwWvWIIbw"
   },
   "outputs": [],
   "source": [
    "def bot_response(user_input):\n",
    "  user_input = user_input.lower()\n",
    "  sentence_list.append(user_input)\n",
    "  bot_response=''\n",
    "  cm = CountVectorizer().fit_transform(sentence_list)\n",
    "  similarity_scores = cosine_similarity(cm[-1], cm)\n",
    "  similarity_scores_list = similarity_scores.flatten()\n",
    "  index = index_sort(similarity_scores_list)\n",
    "  index = index[1:]\n",
    "  response_flag = 0\n",
    "\n",
    "  j = 0\n",
    "  for i in range(len(index)):\n",
    "    if similarity_scores_list[index[i]] > 0.0:\n",
    "      bot_response = bot_response+' '+sentence_list[index[i]]\n",
    "      response_flag = 1\n",
    "      j= j+1\n",
    "    if j > 2:\n",
    "      break\n",
    "\n",
    "  if response_flag == 0:\n",
    "    bot_response = bot_response+' '+\"I do not understand your query, please try again.\"\n",
    "\n",
    "  sentence_list.remove(user_input)\n",
    "\n",
    "  return bot_response   "
   ]
  },
  {
   "cell_type": "code",
   "execution_count": null,
   "metadata": {
    "colab": {
     "base_uri": "https://localhost:8080/"
    },
    "id": "c88DdUbzOwps",
    "outputId": "e6efdfa6-d283-467e-da45-b4b9ae3cdafd"
   },
   "outputs": [],
   "source": [
    "#Your virtual assistance starts from here:\n",
    "print('COVID Bot: I am COVID Bot. I will answer your queries about Novel COVID-19. If you want to exit type bye.')\n",
    "\n",
    "exit_list = ['exit', 'see you later', 'bye', 'quit', 'break', 'sayonara','stop']\n",
    "while(True):\n",
    "  user_input = input()\n",
    "  if user_input.lower()in exit_list:\n",
    "    print('COVID Bot: Had a good time, will chat with you later !')\n",
    "    break\n",
    "  else:\n",
    "    if greeting_response(user_input) != None:\n",
    "      print('COVID Bot:' +' '+greeting_response(user_input))\n",
    "    else:\n",
    "      print('COVID Bot:' +' '+bot_response(user_input))"
   ]
  },
  {
   "cell_type": "code",
   "execution_count": null,
   "metadata": {
    "id": "9cDUvFytM1Sr"
   },
   "outputs": [],
   "source": []
  }
 ],
 "metadata": {
  "colab": {
   "collapsed_sections": [],
   "name": "chatbot-using-nlp.ipynb",
   "provenance": []
  },
  "kernelspec": {
   "display_name": "Python 3",
   "language": "python",
   "name": "python3"
  },
  "language_info": {
   "codemirror_mode": {
    "name": "ipython",
    "version": 3
   },
   "file_extension": ".py",
   "mimetype": "text/x-python",
   "name": "python",
   "nbconvert_exporter": "python",
   "pygments_lexer": "ipython3",
   "version": "3.8.8"
  }
 },
 "nbformat": 4,
 "nbformat_minor": 1
}
